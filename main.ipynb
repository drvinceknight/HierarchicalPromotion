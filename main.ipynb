{
 "cells": [
  {
   "cell_type": "code",
   "execution_count": 1,
   "metadata": {},
   "outputs": [],
   "source": [
    "import hierarchy as hrcy\n",
    "import matplotlib.pyplot as plt\n",
    "import numpy as np"
   ]
  },
  {
   "cell_type": "code",
   "execution_count": 2,
   "metadata": {},
   "outputs": [],
   "source": [
    "capacities = [4, 2, 1]\n",
    "r = 1.1\n",
    "lmbda = [2, 3]\n",
    "mu = [[0.2, 0.1], [1.2, 1.1], [1.5, 1.7]]"
   ]
  },
  {
   "cell_type": "code",
   "execution_count": 3,
   "metadata": {},
   "outputs": [
    {
     "data": {
      "text/plain": [
       "45"
      ]
     },
     "execution_count": 3,
     "metadata": {},
     "output_type": "execute_result"
    }
   ],
   "source": [
    "number_of_states = hrcy.states.enumerate_states(capacities=capacities)\n",
    "number_of_states"
   ]
  },
  {
   "cell_type": "code",
   "execution_count": 4,
   "metadata": {},
   "outputs": [
    {
     "data": {
      "text/plain": [
       "(((0, 4), (0, 2), (1, 0)),\n",
       " ((0, 4), (1, 1), (1, 0)),\n",
       " ((0, 4), (2, 0), (1, 0)),\n",
       " ((0, 4), (0, 1), (1, 0)),\n",
       " ((0, 4), (1, 0), (1, 0)),\n",
       " ((1, 3), (0, 2), (1, 0)),\n",
       " ((1, 3), (1, 1), (1, 0)),\n",
       " ((1, 3), (2, 0), (1, 0)),\n",
       " ((1, 3), (0, 1), (1, 0)),\n",
       " ((1, 3), (1, 0), (1, 0)),\n",
       " ((2, 2), (0, 2), (1, 0)),\n",
       " ((2, 2), (1, 1), (1, 0)),\n",
       " ((2, 2), (2, 0), (1, 0)),\n",
       " ((2, 2), (0, 1), (1, 0)),\n",
       " ((2, 2), (1, 0), (1, 0)),\n",
       " ((3, 1), (0, 2), (1, 0)),\n",
       " ((3, 1), (1, 1), (1, 0)),\n",
       " ((3, 1), (2, 0), (1, 0)),\n",
       " ((3, 1), (0, 1), (1, 0)),\n",
       " ((3, 1), (1, 0), (1, 0)),\n",
       " ((4, 0), (0, 2), (1, 0)),\n",
       " ((4, 0), (1, 1), (1, 0)),\n",
       " ((4, 0), (2, 0), (1, 0)),\n",
       " ((4, 0), (0, 1), (1, 0)),\n",
       " ((4, 0), (1, 0), (1, 0)),\n",
       " ((0, 3), (0, 2), (1, 0)),\n",
       " ((0, 3), (1, 1), (1, 0)),\n",
       " ((0, 3), (2, 0), (1, 0)),\n",
       " ((0, 3), (0, 1), (1, 0)),\n",
       " ((0, 3), (1, 0), (1, 0)),\n",
       " ((1, 2), (0, 2), (1, 0)),\n",
       " ((1, 2), (1, 1), (1, 0)),\n",
       " ((1, 2), (2, 0), (1, 0)),\n",
       " ((1, 2), (0, 1), (1, 0)),\n",
       " ((1, 2), (1, 0), (1, 0)),\n",
       " ((2, 1), (0, 2), (1, 0)),\n",
       " ((2, 1), (1, 1), (1, 0)),\n",
       " ((2, 1), (2, 0), (1, 0)),\n",
       " ((2, 1), (0, 1), (1, 0)),\n",
       " ((2, 1), (1, 0), (1, 0)),\n",
       " ((3, 0), (0, 2), (1, 0)),\n",
       " ((3, 0), (1, 1), (1, 0)),\n",
       " ((3, 0), (2, 0), (1, 0)),\n",
       " ((3, 0), (0, 1), (1, 0)),\n",
       " ((3, 0), (1, 0), (1, 0)))"
      ]
     },
     "execution_count": 4,
     "metadata": {},
     "output_type": "execute_result"
    }
   ],
   "source": [
    "states = tuple(hrcy.states.get_states(capacities=capacities))\n",
    "states"
   ]
  },
  {
   "cell_type": "markdown",
   "metadata": {},
   "source": [
    "Compute linear algebraically:"
   ]
  },
  {
   "cell_type": "code",
   "execution_count": 5,
   "metadata": {},
   "outputs": [],
   "source": [
    "stationary_vector = hrcy.get_stationary_distribution(\n",
    "    capacities=capacities,\n",
    "    r=r,\n",
    "    lmbda=lmbda,\n",
    "    mu=mu,\n",
    ")"
   ]
  },
  {
   "cell_type": "code",
   "execution_count": 6,
   "metadata": {},
   "outputs": [
    {
     "data": {
      "text/plain": [
       "array([ 0.07440609-0.j,  0.03597606-0.j,  0.0213457 -0.j,  0.1136527 -0.j,\n",
       "        0.0651885 -0.j,  0.08176799-0.j,  0.04185388-0.j,  0.02413628-0.j,\n",
       "        0.06674735-0.j,  0.03571562-0.j,  0.04992483-0.j,  0.02512033-0.j,\n",
       "        0.01523141-0.j,  0.04050558-0.j,  0.02186193-0.j,  0.02943374-0.j,\n",
       "        0.01569733-0.j,  0.00946051-0.j,  0.02438758-0.j,  0.01362842-0.j,\n",
       "        0.00976056-0.j,  0.00534737-0.j,  0.00325151-0.j,  0.01715347-0.j,\n",
       "        0.00889447-0.j,  0.02976243-0.j,  0.02878085-0.j,  0.0092498 -0.j,\n",
       "       -0.        -0.j, -0.        -0.j,  0.01831677-0.j,  0.01708613-0.j,\n",
       "        0.00590161-0.j, -0.        -0.j, -0.        -0.j,  0.01108707-0.j,\n",
       "        0.0103802 -0.j,  0.0036813 -0.j, -0.        -0.j, -0.        -0.j,\n",
       "        0.00634436-0.j,  0.00668422-0.j,  0.00227605-0.j, -0.        -0.j,\n",
       "       -0.        -0.j])"
      ]
     },
     "execution_count": 6,
     "metadata": {},
     "output_type": "execute_result"
    }
   ],
   "source": [
    "stationary_vector"
   ]
  },
  {
   "cell_type": "code",
   "execution_count": 7,
   "metadata": {},
   "outputs": [
    {
     "name": "stderr",
     "output_type": "stream",
     "text": [
      "/home/nightwing/anaconda3/envs/hrcy/lib/python3.6/site-packages/numpy/core/numeric.py:553: ComplexWarning: Casting complex values to real discards the imaginary part\n",
      "  return array(a, dtype, copy=False, order=order, subok=True)\n"
     ]
    },
    {
     "data": {
      "text/plain": [
       "<matplotlib.collections.PathCollection at 0x7f22a2d4b978>"
      ]
     },
     "execution_count": 7,
     "metadata": {},
     "output_type": "execute_result"
    },
    {
     "data": {
      "image/png": "[encoded data removed]",
      "text/plain": [
       "<Figure size 432x288 with 1 Axes>"
      ]
     },
     "metadata": {
      "needs_background": "light"
     },
     "output_type": "display_data"
    }
   ],
   "source": [
    "plt.scatter(range(1, number_of_states + 1), stationary_vector)"
   ]
  },
  {
   "cell_type": "code",
   "execution_count": 8,
   "metadata": {},
   "outputs": [
    {
     "data": {
      "text/plain": [
       "((0, 4), (0, 1), (1, 0))"
      ]
     },
     "execution_count": 8,
     "metadata": {},
     "output_type": "execute_result"
    }
   ],
   "source": [
    "states[np.argmax(stationary_vector)]"
   ]
  },
  {
   "cell_type": "markdown",
   "metadata": {},
   "source": [
    "Obtain stationary vector using simulation."
   ]
  },
  {
   "cell_type": "code",
   "execution_count": 9,
   "metadata": {},
   "outputs": [
    {
     "data": {
      "text/plain": [
       "[array([[2., 1.],\n",
       "        [2., 0.],\n",
       "        [0., 1.]]), array([[3., 0.],\n",
       "        [1., 1.],\n",
       "        [0., 1.]])]"
      ]
     },
     "execution_count": 9,
     "metadata": {},
     "output_type": "execute_result"
    }
   ],
   "source": [
    "state_in = np.array([[3, 1], [1, 0], [0, 1]])\n",
    "potential_states = hrcy.transitions.get_potential_states(state_in=state_in, capacities=capacities)\n",
    "potential_states"
   ]
  },
  {
   "cell_type": "code",
   "execution_count": 10,
   "metadata": {},
   "outputs": [
    {
     "data": {
      "text/plain": [
       "100000"
      ]
     },
     "execution_count": 10,
     "metadata": {},
     "output_type": "execute_result"
    }
   ],
   "source": [
    "import collections\n",
    "\n",
    "number_of_repetitions = 100\n",
    "max_transitions = 1000\n",
    "\n",
    "all_history = []\n",
    "\n",
    "for seed in range(number_of_repetitions):\n",
    "    output = list(\n",
    "        hrcy.get_simulated_history(\n",
    "            capacities=capacities,\n",
    "            r=r,\n",
    "            lmbda=lmbda,\n",
    "            mu=mu,\n",
    "            max_transitions=max_transitions,\n",
    "            seed=seed,\n",
    "        )\n",
    "    )\n",
    "    history, dates = map(list, zip(*output))\n",
    "    all_history += list(map(lambda array: tuple(map(tuple, array.astype(int))), history))\n",
    "    \n",
    "history_count = collections.Counter(all_history)\n",
    "total = np.sum([v for v in history_count.values()])\n",
    "simulated_stationary_vector = np.array([history_count.get(state, 0) / (number_of_repetitions * max_transitions) \n",
    "                                        for state in states])\n",
    "total"
   ]
  },
  {
   "cell_type": "code",
   "execution_count": 11,
   "metadata": {},
   "outputs": [
    {
     "data": {
      "text/plain": [
       "<matplotlib.collections.PathCollection at 0x7f22a037df60>"
      ]
     },
     "execution_count": 11,
     "metadata": {},
     "output_type": "execute_result"
    },
    {
     "data": {
      "image/png": "[encoded data removed]",
      "text/plain": [
       "<Figure size 432x288 with 1 Axes>"
      ]
     },
     "metadata": {
      "needs_background": "light"
     },
     "output_type": "display_data"
    }
   ],
   "source": [
    "plt.scatter(range(1, number_of_states + 1), simulated_stationary_vector - stationary_vector)"
   ]
  },
  {
   "cell_type": "code",
   "execution_count": 12,
   "metadata": {},
   "outputs": [
    {
     "data": {
      "text/plain": [
       "((0, 3), (0, 2), (1, 0))"
      ]
     },
     "execution_count": 12,
     "metadata": {},
     "output_type": "execute_result"
    }
   ],
   "source": [
    "states[np.argmax(simulated_stationary_vector)]"
   ]
  },
  {
   "cell_type": "markdown",
   "metadata": {},
   "source": [
    "# Simple example"
   ]
  },
  {
   "cell_type": "code",
   "execution_count": 13,
   "metadata": {},
   "outputs": [],
   "source": [
    "capacities = [1, 1]\n",
    "mu = [[1, 1], [10, 10]]\n",
    "lmbda = [1, 1]\n",
    "r = 1"
   ]
  },
  {
   "cell_type": "code",
   "execution_count": 14,
   "metadata": {},
   "outputs": [],
   "source": [
    "num_of_states = hrcy.states.enumerate_states(capacities=capacities)"
   ]
  },
  {
   "cell_type": "code",
   "execution_count": 15,
   "metadata": {},
   "outputs": [
    {
     "data": {
      "text/plain": [
       "3"
      ]
     },
     "execution_count": 15,
     "metadata": {},
     "output_type": "execute_result"
    }
   ],
   "source": [
    "num_of_states"
   ]
  },
  {
   "cell_type": "code",
   "execution_count": 16,
   "metadata": {
    "scrolled": true
   },
   "outputs": [
    {
     "data": {
      "text/plain": [
       "[((0, 1), (1, 0)), ((1, 0), (1, 0)), ((0, 0), (1, 0))]"
      ]
     },
     "execution_count": 16,
     "metadata": {},
     "output_type": "execute_result"
    }
   ],
   "source": [
    "states = list(hrcy.states.get_states(capacities=capacities))\n",
    "states"
   ]
  },
  {
   "cell_type": "code",
   "execution_count": 17,
   "metadata": {},
   "outputs": [],
   "source": [
    "matrix = hrcy.transitions.get_transition_matrix(capacities=capacities,\n",
    "                                                lmbda=lmbda, \n",
    "                                                mu=mu,\n",
    "                                                r=r)"
   ]
  },
  {
   "cell_type": "code",
   "execution_count": 18,
   "metadata": {},
   "outputs": [
    {
     "data": {
      "text/plain": [
       "array([[-1.,  0.,  1.],\n",
       "       [ 0., -1.,  1.],\n",
       "       [ 1.,  1., -2.]])"
      ]
     },
     "execution_count": 18,
     "metadata": {},
     "output_type": "execute_result"
    }
   ],
   "source": [
    "matrix"
   ]
  },
  {
   "cell_type": "code",
   "execution_count": 19,
   "metadata": {},
   "outputs": [],
   "source": [
    "stationary = hrcy.get_stationary_distribution(capacities=capacities,\n",
    "                                                lmbda=lmbda, \n",
    "                                                mu=mu,\n",
    "                                                r=r)"
   ]
  },
  {
   "cell_type": "code",
   "execution_count": 20,
   "metadata": {},
   "outputs": [
    {
     "data": {
      "text/plain": [
       "<matplotlib.collections.PathCollection at 0x7f22a034b438>"
      ]
     },
     "execution_count": 20,
     "metadata": {},
     "output_type": "execute_result"
    },
    {
     "data": {
      "image/png": "[encoded data removed]",
      "text/plain": [
       "<Figure size 432x288 with 1 Axes>"
      ]
     },
     "metadata": {
      "needs_background": "light"
     },
     "output_type": "display_data"
    }
   ],
   "source": [
    "plt.scatter(range(num_of_states), stationary)"
   ]
  },
  {
   "cell_type": "code",
   "execution_count": 21,
   "metadata": {},
   "outputs": [
    {
     "data": {
      "text/plain": [
       "array([0.33333333, 0.33333333, 0.33333333])"
      ]
     },
     "execution_count": 21,
     "metadata": {},
     "output_type": "execute_result"
    }
   ],
   "source": [
    "stationary"
   ]
  },
  {
   "cell_type": "code",
   "execution_count": 22,
   "metadata": {},
   "outputs": [
    {
     "data": {
      "text/plain": [
       "[((0, 1), (1, 0)), ((1, 0), (1, 0)), ((0, 0), (1, 0))]"
      ]
     },
     "execution_count": 22,
     "metadata": {},
     "output_type": "execute_result"
    }
   ],
   "source": [
    "states"
   ]
  },
  {
   "cell_type": "code",
   "execution_count": 23,
   "metadata": {},
   "outputs": [
    {
     "data": {
      "text/plain": [
       "array([ 5.55111512e-17,  1.11022302e-16, -2.22044605e-16])"
      ]
     },
     "execution_count": 23,
     "metadata": {},
     "output_type": "execute_result"
    }
   ],
   "source": [
    "stationary @ matrix"
   ]
  },
  {
   "cell_type": "code",
   "execution_count": 24,
   "metadata": {},
   "outputs": [
    {
     "data": {
      "text/plain": [
       "array([-1.11022302e-16, -5.55111512e-17,  2.22044605e-16])"
      ]
     },
     "execution_count": 24,
     "metadata": {},
     "output_type": "execute_result"
    }
   ],
   "source": [
    "np.roll(stationary, 1) @ matrix"
   ]
  },
  {
   "cell_type": "code",
   "execution_count": 25,
   "metadata": {},
   "outputs": [
    {
     "data": {
      "text/plain": [
       "74844.94263211096"
      ]
     },
     "execution_count": 25,
     "metadata": {},
     "output_type": "execute_result"
    }
   ],
   "source": [
    "number_of_repetitions = 100\n",
    "max_transitions = 1000\n",
    "\n",
    "all_history = collections.Counter()\n",
    "\n",
    "for seed in range(number_of_repetitions):\n",
    "    output = list(\n",
    "        hrcy.get_simulated_history(\n",
    "            capacities=capacities,\n",
    "            r=r,\n",
    "            lmbda=lmbda,\n",
    "            mu=mu,\n",
    "            max_transitions=max_transitions,\n",
    "            seed=seed,\n",
    "        )\n",
    "    )\n",
    "    history, dates = map(list, zip(*output))\n",
    "    for state, time in zip(history, np.diff(dates)):\n",
    "        all_history[tuple(map(tuple, state.astype(int)))] += time\n",
    "    \n",
    "total = np.sum([v for v in all_history.values()])\n",
    "simulated_stationary_vector = np.array([all_history.get(state, 0) / (total) \n",
    "                                        for state in states])\n",
    "total"
   ]
  },
  {
   "cell_type": "code",
   "execution_count": 26,
   "metadata": {},
   "outputs": [
    {
     "data": {
      "text/plain": [
       "array([0.33445666, 0.33297112, 0.33257221])"
      ]
     },
     "execution_count": 26,
     "metadata": {},
     "output_type": "execute_result"
    }
   ],
   "source": [
    "simulated_stationary_vector"
   ]
  },
  {
   "cell_type": "code",
   "execution_count": 27,
   "metadata": {},
   "outputs": [
    {
     "data": {
      "text/plain": [
       "(999,)"
      ]
     },
     "execution_count": 27,
     "metadata": {},
     "output_type": "execute_result"
    }
   ],
   "source": [
    "np.diff(dates).shape"
   ]
  },
  {
   "cell_type": "code",
   "execution_count": 28,
   "metadata": {},
   "outputs": [
    {
     "data": {
      "text/plain": [
       "1000"
      ]
     },
     "execution_count": 28,
     "metadata": {},
     "output_type": "execute_result"
    }
   ],
   "source": [
    "len(dates)"
   ]
  },
  {
   "cell_type": "code",
   "execution_count": 29,
   "metadata": {},
   "outputs": [
    {
     "data": {
      "image/png": "[encoded data removed]",
      "text/plain": [
       "<Figure size 432x288 with 1 Axes>"
      ]
     },
     "metadata": {
      "needs_background": "light"
     },
     "output_type": "display_data"
    }
   ],
   "source": [
    "plt.scatter(range(1, num_of_states + 1), stationary - simulated_stationary_vector);"
   ]
  },
  {
   "cell_type": "code",
   "execution_count": 30,
   "metadata": {},
   "outputs": [
    {
     "data": {
      "image/png": "[encoded data removed]",
      "text/plain": [
       "<Figure size 432x288 with 1 Axes>"
      ]
     },
     "metadata": {
      "needs_background": "light"
     },
     "output_type": "display_data"
    }
   ],
   "source": [
    "plt.scatter(range(1, num_of_states + 1), simulated_stationary_vector, marker='*');\n",
    "plt.scatter(range(1, num_of_states + 1), stationary);"
   ]
  },
  {
   "cell_type": "code",
   "execution_count": 31,
   "metadata": {},
   "outputs": [
    {
     "data": {
      "text/plain": [
       "array([ 5.55111512e-17,  1.11022302e-16, -2.22044605e-16])"
      ]
     },
     "execution_count": 31,
     "metadata": {},
     "output_type": "execute_result"
    }
   ],
   "source": [
    "stationary @ matrix"
   ]
  },
  {
   "cell_type": "code",
   "execution_count": 32,
   "metadata": {},
   "outputs": [
    {
     "data": {
      "text/plain": [
       "array([-0.00188445, -0.00039891,  0.00228336])"
      ]
     },
     "execution_count": 32,
     "metadata": {},
     "output_type": "execute_result"
    }
   ],
   "source": [
    "simulated_stationary_vector @ matrix"
   ]
  },
  {
   "cell_type": "markdown",
   "metadata": {},
   "source": [
    "## Another example"
   ]
  },
  {
   "cell_type": "code",
   "execution_count": 33,
   "metadata": {},
   "outputs": [],
   "source": [
    "capacities = [1, 1]\n",
    "mu = [[1, 1.4], [1, 1]]\n",
    "lmbda = [1.2, 1]\n",
    "r = 1.1"
   ]
  },
  {
   "cell_type": "code",
   "execution_count": 34,
   "metadata": {},
   "outputs": [],
   "source": [
    "stationary = hrcy.get_stationary_distribution(capacities=capacities,\n",
    "                                                lmbda=lmbda, \n",
    "                                                mu=mu,\n",
    "                                                r=r)"
   ]
  },
  {
   "cell_type": "code",
   "execution_count": 35,
   "metadata": {},
   "outputs": [],
   "source": [
    "number_of_repetitions = 100\n",
    "max_transitions = 1000\n",
    "\n",
    "all_history = collections.Counter()\n",
    "\n",
    "for seed in range(number_of_repetitions):\n",
    "    output = list(\n",
    "        hrcy.get_simulated_history(\n",
    "            capacities=capacities,\n",
    "            r=r,\n",
    "            lmbda=lmbda,\n",
    "            mu=mu,\n",
    "            max_transitions=max_transitions,\n",
    "            seed=seed,\n",
    "        )\n",
    "    )\n",
    "    history, dates = map(list, zip(*output))\n",
    "    for state, time in zip(history, np.diff(dates)):\n",
    "        all_history[tuple(map(tuple, state.astype(int)))] += time\n",
    "    \n",
    "total = np.sum([v for v in all_history.values()])\n",
    "simulated_stationary_vector = np.array([all_history.get(state, 0) / (total) \n",
    "                                        for state in states])"
   ]
  },
  {
   "cell_type": "code",
   "execution_count": 36,
   "metadata": {},
   "outputs": [
    {
     "data": {
      "image/png": "[encoded data removed]",
      "text/plain": [
       "<Figure size 432x288 with 1 Axes>"
      ]
     },
     "metadata": {
      "needs_background": "light"
     },
     "output_type": "display_data"
    }
   ],
   "source": [
    "plt.scatter(range(1, num_of_states + 1), stationary);\n",
    "plt.scatter(range(1, num_of_states + 1), simulated_stationary_vector, marker='*');"
   ]
  },
  {
   "cell_type": "markdown",
   "metadata": {},
   "source": [
    "## Another another example "
   ]
  },
  {
   "cell_type": "code",
   "execution_count": 37,
   "metadata": {},
   "outputs": [],
   "source": [
    "capacities = [2, 2, 1]\n",
    "mu = [[1, 1.4], [1, 1], [1, 1]]\n",
    "lmbda = [1.2, 1]\n",
    "r = 1.1"
   ]
  },
  {
   "cell_type": "code",
   "execution_count": 38,
   "metadata": {},
   "outputs": [],
   "source": [
    "number_of_states = hrcy.states.enumerate_states(capacities=capacities)"
   ]
  },
  {
   "cell_type": "code",
   "execution_count": 39,
   "metadata": {},
   "outputs": [
    {
     "data": {
      "text/plain": [
       "25"
      ]
     },
     "execution_count": 39,
     "metadata": {},
     "output_type": "execute_result"
    }
   ],
   "source": [
    "number_of_states"
   ]
  },
  {
   "cell_type": "code",
   "execution_count": 40,
   "metadata": {},
   "outputs": [],
   "source": [
    "stationary = hrcy.get_stationary_distribution(capacities=capacities,\n",
    "                                                lmbda=lmbda, \n",
    "                                                mu=mu,\n",
    "                                                r=r)"
   ]
  },
  {
   "cell_type": "code",
   "execution_count": 41,
   "metadata": {},
   "outputs": [],
   "source": [
    "states = hrcy.states.get_states(capacities)"
   ]
  },
  {
   "cell_type": "code",
   "execution_count": 42,
   "metadata": {},
   "outputs": [],
   "source": [
    "number_of_repetitions = 100\n",
    "max_transitions = 1000\n",
    "\n",
    "all_history = collections.Counter()\n",
    "\n",
    "for seed in range(number_of_repetitions):\n",
    "    output = list(\n",
    "        hrcy.get_simulated_history(\n",
    "            capacities=capacities,\n",
    "            r=r,\n",
    "            lmbda=lmbda,\n",
    "            mu=mu,\n",
    "            max_transitions=max_transitions,\n",
    "            seed=seed,\n",
    "        )\n",
    "    )\n",
    "    history, dates = map(list, zip(*output))\n",
    "    for state, time in zip(history, np.diff(dates)):\n",
    "        all_history[tuple(map(tuple, state.astype(int)))] += time\n",
    "    \n",
    "total = np.sum([v for v in all_history.values()])\n",
    "simulated_stationary_vector = np.array([all_history.get(state, 0) / (total) \n",
    "                                        for state in states])"
   ]
  },
  {
   "cell_type": "code",
   "execution_count": 43,
   "metadata": {},
   "outputs": [
    {
     "data": {
      "image/png": "[encoded data removed]",
      "text/plain": [
       "<Figure size 432x288 with 1 Axes>"
      ]
     },
     "metadata": {
      "needs_background": "light"
     },
     "output_type": "display_data"
    }
   ],
   "source": [
    "plt.scatter(range(1, number_of_states + 1), stationary);\n",
    "plt.scatter(range(1, number_of_states + 1), simulated_stationary_vector, marker='*');"
   ]
  },
  {
   "cell_type": "code",
   "execution_count": null,
   "metadata": {},
   "outputs": [],
   "source": []
  }
 ],
 "metadata": {
  "kernelspec": {
   "display_name": "hrcy",
   "language": "python",
   "name": "hrcy"
  },
  "language_info": {
   "codemirror_mode": {
    "name": "ipython",
    "version": 3
   },
   "file_extension": ".py",
   "mimetype": "text/x-python",
   "name": "python",
   "nbconvert_exporter": "python",
   "pygments_lexer": "ipython3",
   "version": "3.6.7"
  }
 },
 "nbformat": 4,
 "nbformat_minor": 2
}
