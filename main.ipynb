{
 "cells": [
  {
   "cell_type": "code",
   "execution_count": 1,
   "metadata": {},
   "outputs": [],
   "source": [
    "import hierarchy as hrcy\n",
    "import matplotlib.pyplot as plt\n",
    "import numpy as np"
   ]
  },
  {
   "cell_type": "code",
   "execution_count": 2,
   "metadata": {},
   "outputs": [],
   "source": [
    "capacities = [4, 2, 1]\n",
    "r = 1.1\n",
    "lmbda = [2, 3]\n",
    "mu = [[0.2, 0.1], [1.2, 1.1], [1.5, 1.7]]"
   ]
  },
  {
   "cell_type": "code",
   "execution_count": 3,
   "metadata": {},
   "outputs": [
    {
     "data": {
      "text/plain": [
       "90"
      ]
     },
     "execution_count": 3,
     "metadata": {},
     "output_type": "execute_result"
    }
   ],
   "source": [
    "number_of_states = hrcy.states.enumerate_states(capacities=capacities)\n",
    "number_of_states"
   ]
  },
  {
   "cell_type": "code",
   "execution_count": 4,
   "metadata": {},
   "outputs": [
    {
     "data": {
      "text/plain": [
       "(((0, 4), (0, 2), (0, 1)),\n",
       " ((0, 4), (0, 2), (1, 0)),\n",
       " ((0, 4), (1, 1), (0, 1)),\n",
       " ((0, 4), (1, 1), (1, 0)),\n",
       " ((0, 4), (2, 0), (0, 1)),\n",
       " ((0, 4), (2, 0), (1, 0)),\n",
       " ((0, 4), (0, 1), (0, 1)),\n",
       " ((0, 4), (0, 1), (1, 0)),\n",
       " ((0, 4), (1, 0), (0, 1)),\n",
       " ((0, 4), (1, 0), (1, 0)),\n",
       " ((1, 3), (0, 2), (0, 1)),\n",
       " ((1, 3), (0, 2), (1, 0)),\n",
       " ((1, 3), (1, 1), (0, 1)),\n",
       " ((1, 3), (1, 1), (1, 0)),\n",
       " ((1, 3), (2, 0), (0, 1)),\n",
       " ((1, 3), (2, 0), (1, 0)),\n",
       " ((1, 3), (0, 1), (0, 1)),\n",
       " ((1, 3), (0, 1), (1, 0)),\n",
       " ((1, 3), (1, 0), (0, 1)),\n",
       " ((1, 3), (1, 0), (1, 0)),\n",
       " ((2, 2), (0, 2), (0, 1)),\n",
       " ((2, 2), (0, 2), (1, 0)),\n",
       " ((2, 2), (1, 1), (0, 1)),\n",
       " ((2, 2), (1, 1), (1, 0)),\n",
       " ((2, 2), (2, 0), (0, 1)),\n",
       " ((2, 2), (2, 0), (1, 0)),\n",
       " ((2, 2), (0, 1), (0, 1)),\n",
       " ((2, 2), (0, 1), (1, 0)),\n",
       " ((2, 2), (1, 0), (0, 1)),\n",
       " ((2, 2), (1, 0), (1, 0)),\n",
       " ((3, 1), (0, 2), (0, 1)),\n",
       " ((3, 1), (0, 2), (1, 0)),\n",
       " ((3, 1), (1, 1), (0, 1)),\n",
       " ((3, 1), (1, 1), (1, 0)),\n",
       " ((3, 1), (2, 0), (0, 1)),\n",
       " ((3, 1), (2, 0), (1, 0)),\n",
       " ((3, 1), (0, 1), (0, 1)),\n",
       " ((3, 1), (0, 1), (1, 0)),\n",
       " ((3, 1), (1, 0), (0, 1)),\n",
       " ((3, 1), (1, 0), (1, 0)),\n",
       " ((4, 0), (0, 2), (0, 1)),\n",
       " ((4, 0), (0, 2), (1, 0)),\n",
       " ((4, 0), (1, 1), (0, 1)),\n",
       " ((4, 0), (1, 1), (1, 0)),\n",
       " ((4, 0), (2, 0), (0, 1)),\n",
       " ((4, 0), (2, 0), (1, 0)),\n",
       " ((4, 0), (0, 1), (0, 1)),\n",
       " ((4, 0), (0, 1), (1, 0)),\n",
       " ((4, 0), (1, 0), (0, 1)),\n",
       " ((4, 0), (1, 0), (1, 0)),\n",
       " ((0, 3), (0, 2), (0, 1)),\n",
       " ((0, 3), (0, 2), (1, 0)),\n",
       " ((0, 3), (1, 1), (0, 1)),\n",
       " ((0, 3), (1, 1), (1, 0)),\n",
       " ((0, 3), (2, 0), (0, 1)),\n",
       " ((0, 3), (2, 0), (1, 0)),\n",
       " ((0, 3), (0, 1), (0, 1)),\n",
       " ((0, 3), (0, 1), (1, 0)),\n",
       " ((0, 3), (1, 0), (0, 1)),\n",
       " ((0, 3), (1, 0), (1, 0)),\n",
       " ((1, 2), (0, 2), (0, 1)),\n",
       " ((1, 2), (0, 2), (1, 0)),\n",
       " ((1, 2), (1, 1), (0, 1)),\n",
       " ((1, 2), (1, 1), (1, 0)),\n",
       " ((1, 2), (2, 0), (0, 1)),\n",
       " ((1, 2), (2, 0), (1, 0)),\n",
       " ((1, 2), (0, 1), (0, 1)),\n",
       " ((1, 2), (0, 1), (1, 0)),\n",
       " ((1, 2), (1, 0), (0, 1)),\n",
       " ((1, 2), (1, 0), (1, 0)),\n",
       " ((2, 1), (0, 2), (0, 1)),\n",
       " ((2, 1), (0, 2), (1, 0)),\n",
       " ((2, 1), (1, 1), (0, 1)),\n",
       " ((2, 1), (1, 1), (1, 0)),\n",
       " ((2, 1), (2, 0), (0, 1)),\n",
       " ((2, 1), (2, 0), (1, 0)),\n",
       " ((2, 1), (0, 1), (0, 1)),\n",
       " ((2, 1), (0, 1), (1, 0)),\n",
       " ((2, 1), (1, 0), (0, 1)),\n",
       " ((2, 1), (1, 0), (1, 0)),\n",
       " ((3, 0), (0, 2), (0, 1)),\n",
       " ((3, 0), (0, 2), (1, 0)),\n",
       " ((3, 0), (1, 1), (0, 1)),\n",
       " ((3, 0), (1, 1), (1, 0)),\n",
       " ((3, 0), (2, 0), (0, 1)),\n",
       " ((3, 0), (2, 0), (1, 0)),\n",
       " ((3, 0), (0, 1), (0, 1)),\n",
       " ((3, 0), (0, 1), (1, 0)),\n",
       " ((3, 0), (1, 0), (0, 1)),\n",
       " ((3, 0), (1, 0), (1, 0)))"
      ]
     },
     "execution_count": 4,
     "metadata": {},
     "output_type": "execute_result"
    }
   ],
   "source": [
    "states = tuple(hrcy.states.get_states(capacities=capacities))\n",
    "states"
   ]
  },
  {
   "cell_type": "markdown",
   "metadata": {},
   "source": [
    "Compute linear algebraically:"
   ]
  },
  {
   "cell_type": "code",
   "execution_count": 5,
   "metadata": {},
   "outputs": [],
   "source": [
    "stationary_vector = hrcy.get_stationary_distribution(\n",
    "    capacities=capacities,\n",
    "    r=r,\n",
    "    lmbda=lmbda,\n",
    "    mu=mu,\n",
    ")"
   ]
  },
  {
   "cell_type": "code",
   "execution_count": 6,
   "metadata": {},
   "outputs": [
    {
     "data": {
      "text/plain": [
       "array([0.01580472+0.j, 0.05860136+0.j, 0.00764174+0.j, 0.02833432+0.j,\n",
       "       0.00453408+0.j, 0.01681162+0.j, 0.02414116+0.j, 0.08951153+0.j,\n",
       "       0.0138468 +0.j, 0.0513417 +0.j, 0.01736848+0.j, 0.06439951+0.j,\n",
       "       0.00889025+0.j, 0.03296363+0.j, 0.00512683+0.j, 0.01900945+0.j,\n",
       "       0.01417792+0.j, 0.05256943+0.j, 0.00758642+0.j, 0.02812921+0.j,\n",
       "       0.01060462+0.j, 0.03932021+0.j, 0.00533585+0.j, 0.01978448+0.j,\n",
       "       0.00323533+0.j, 0.01199608+0.j, 0.00860386+0.j, 0.03190172+0.j,\n",
       "       0.00464373+0.j, 0.0172182 +0.j, 0.00625207+0.j, 0.02318167+0.j,\n",
       "       0.0033343 +0.j, 0.01236303+0.j, 0.00200952+0.j, 0.00745099+0.j,\n",
       "       0.00518021+0.j, 0.01920737+0.j, 0.00289484+0.j, 0.01073358+0.j,\n",
       "       0.00207326+0.j, 0.0076873 +0.j, 0.00113584+0.j, 0.00421153+0.j,\n",
       "       0.00069066+0.j, 0.00256085+0.j, 0.0036436 +0.j, 0.01350987+0.j,\n",
       "       0.00188929+0.j, 0.00700518+0.j, 0.00632189+0.j, 0.02344054+0.j,\n",
       "       0.00611339+0.j, 0.02266746+0.j, 0.00196477+0.j, 0.00728504+0.j,\n",
       "       0.        +0.j, 0.        +0.j, 0.        +0.j, 0.        +0.j,\n",
       "       0.0038907 +0.j, 0.01442607+0.j, 0.00362929+0.j, 0.01345684+0.j,\n",
       "       0.00125357+0.j, 0.00464804+0.j, 0.        +0.j, 0.        +0.j,\n",
       "       0.        +0.j, 0.        +0.j, 0.00235502+0.j, 0.00873205+0.j,\n",
       "       0.00220488+0.j, 0.00817533+0.j, 0.00078195+0.j, 0.00289935+0.j,\n",
       "       0.        +0.j, 0.        +0.j, 0.        +0.j, 0.        +0.j,\n",
       "       0.00134762+0.j, 0.00499675+0.j, 0.00141981+0.j, 0.00526441+0.j,\n",
       "       0.00048346+0.j, 0.00179259+0.j, 0.        +0.j, 0.        +0.j,\n",
       "       0.        +0.j, 0.        +0.j])"
      ]
     },
     "execution_count": 6,
     "metadata": {},
     "output_type": "execute_result"
    }
   ],
   "source": [
    "stationary_vector"
   ]
  },
  {
   "cell_type": "code",
   "execution_count": 7,
   "metadata": {},
   "outputs": [
    {
     "name": "stderr",
     "output_type": "stream",
     "text": [
      "/home/vince/anaconda3/envs/hrcy/lib/python3.6/site-packages/numpy/core/numeric.py:553: ComplexWarning: Casting complex values to real discards the imaginary part\n",
      "  return array(a, dtype, copy=False, order=order, subok=True)\n"
     ]
    },
    {
     "data": {
      "text/plain": [
       "<matplotlib.collections.PathCollection at 0x7f9c580bfc88>"
      ]
     },
     "execution_count": 7,
     "metadata": {},
     "output_type": "execute_result"
    },
    {
     "data": {
      "image/png": "[encoded data removed]",
      "text/plain": [
       "<Figure size 432x288 with 1 Axes>"
      ]
     },
     "metadata": {
      "needs_background": "light"
     },
     "output_type": "display_data"
    }
   ],
   "source": [
    "plt.scatter(range(1, number_of_states + 1), stationary_vector)"
   ]
  },
  {
   "cell_type": "code",
   "execution_count": 8,
   "metadata": {},
   "outputs": [
    {
     "data": {
      "text/plain": [
       "((0, 4), (0, 1), (1, 0))"
      ]
     },
     "execution_count": 8,
     "metadata": {},
     "output_type": "execute_result"
    }
   ],
   "source": [
    "states[np.argmax(stationary_vector)]"
   ]
  },
  {
   "cell_type": "markdown",
   "metadata": {},
   "source": [
    "Obtain stationary vector using simulation."
   ]
  },
  {
   "cell_type": "code",
   "execution_count": 10,
   "metadata": {},
   "outputs": [
    {
     "data": {
      "text/plain": [
       "[array([[2., 1.],\n",
       "        [2., 0.],\n",
       "        [0., 1.]]), array([[3., 0.],\n",
       "        [1., 1.],\n",
       "        [0., 1.]])]"
      ]
     },
     "execution_count": 10,
     "metadata": {},
     "output_type": "execute_result"
    }
   ],
   "source": [
    "state_in = np.array([[3, 1], [1, 0], [0, 1]])\n",
    "potential_states = hrcy.transitions.get_potential_states(state_in=state_in, capacities=capacities)\n",
    "potential_states"
   ]
  },
  {
   "cell_type": "code",
   "execution_count": 11,
   "metadata": {},
   "outputs": [
    {
     "data": {
      "text/plain": [
       "100000"
      ]
     },
     "execution_count": 11,
     "metadata": {},
     "output_type": "execute_result"
    }
   ],
   "source": [
    "import collections\n",
    "\n",
    "number_of_repetitions = 100\n",
    "max_transitions = 1000\n",
    "\n",
    "all_history = []\n",
    "\n",
    "for seed in range(number_of_repetitions):\n",
    "    output = list(\n",
    "        hrcy.get_simulated_history(\n",
    "            capacities=capacities,\n",
    "            r=r,\n",
    "            lmbda=lmbda,\n",
    "            mu=mu,\n",
    "            max_transitions=max_transitions,\n",
    "            seed=seed,\n",
    "        )\n",
    "    )\n",
    "    history, dates = map(list, zip(*output))\n",
    "    all_history += list(map(lambda array: tuple(map(tuple, array.astype(int))), history))\n",
    "    \n",
    "history_count = collections.Counter(all_history)\n",
    "total = np.sum([v for v in history_count.values()])\n",
    "simulated_stationary_vector = np.array([history_count.get(state, 0) / (number_of_repetitions * max_transitions) \n",
    "                                        for state in states])\n",
    "total"
   ]
  },
  {
   "cell_type": "code",
   "execution_count": 12,
   "metadata": {},
   "outputs": [
    {
     "name": "stderr",
     "output_type": "stream",
     "text": [
      "/home/vince/anaconda3/envs/hrcy/lib/python3.6/site-packages/numpy/core/numeric.py:553: ComplexWarning: Casting complex values to real discards the imaginary part\n",
      "  return array(a, dtype, copy=False, order=order, subok=True)\n"
     ]
    },
    {
     "data": {
      "text/plain": [
       "<matplotlib.collections.PathCollection at 0x7f9c501ed208>"
      ]
     },
     "execution_count": 12,
     "metadata": {},
     "output_type": "execute_result"
    },
    {
     "data": {
      "image/png": "[encoded data removed]",
      "text/plain": [
       "<Figure size 432x288 with 1 Axes>"
      ]
     },
     "metadata": {
      "needs_background": "light"
     },
     "output_type": "display_data"
    }
   ],
   "source": [
    "plt.scatter(range(1, number_of_states + 1), simulated_stationary_vector - stationary_vector)"
   ]
  },
  {
   "cell_type": "code",
   "execution_count": 13,
   "metadata": {},
   "outputs": [
    {
     "data": {
      "text/plain": [
       "((0, 4), (0, 1), (1, 0))"
      ]
     },
     "execution_count": 13,
     "metadata": {},
     "output_type": "execute_result"
    }
   ],
   "source": [
    "states[np.argmax(simulated_stationary_vector)]"
   ]
  },
  {
   "cell_type": "code",
   "execution_count": null,
   "metadata": {},
   "outputs": [],
   "source": []
  }
 ],
 "metadata": {
  "kernelspec": {
   "display_name": "Python [conda env:hrcy]",
   "language": "python",
   "name": "conda-env-hrcy-py"
  },
  "language_info": {
   "codemirror_mode": {
    "name": "ipython",
    "version": 3
   },
   "file_extension": ".py",
   "mimetype": "text/x-python",
   "name": "python",
   "nbconvert_exporter": "python",
   "pygments_lexer": "ipython3",
   "version": "3.6.7"
  }
 },
 "nbformat": 4,
 "nbformat_minor": 2
}
